{
 "cells": [
  {
   "cell_type": "code",
   "execution_count": 1,
   "metadata": {},
   "outputs": [],
   "source": [
    "import numpy as np\n",
    "import pandas as pd\n",
    "from scipy import stats\n",
    "from sklearn.metrics.pairwise import cosine_similarity\n",
    "from sentence_transformers import SentenceTransformer, util"
   ]
  },
  {
   "cell_type": "code",
   "execution_count": 2,
   "metadata": {},
   "outputs": [],
   "source": [
    "data = pd.read_csv('blip3.csv')"
   ]
  },
  {
   "cell_type": "code",
   "execution_count": 3,
   "metadata": {},
   "outputs": [],
   "source": [
    "ganfd = pd.read_csv('../GANFD/image_lookup.csv')"
   ]
  },
  {
   "cell_type": "code",
   "execution_count": 4,
   "metadata": {},
   "outputs": [],
   "source": [
    "merged_data = data.merge(ganfd[['full_ID', 'condition']], left_on='image_id', right_on='full_ID', how='left')\n",
    "merged_data.drop(columns=['full_ID'], inplace=True)"
   ]
  },
  {
   "cell_type": "code",
   "execution_count": 5,
   "metadata": {},
   "outputs": [],
   "source": [
    "cosines = merged_data.to_dict()"
   ]
  },
  {
   "cell_type": "markdown",
   "metadata": {},
   "source": [
    "## Define Functions"
   ]
  },
  {
   "cell_type": "code",
   "execution_count": 6,
   "metadata": {},
   "outputs": [],
   "source": [
    "def cosines_by_image(data_dict, model_name):\n",
    "    model = SentenceTransformer(model_name)\n",
    "    embeddings = model.encode(list(data_dict['response'].values()))\n",
    "    data_dict['embedding'] = embeddings\n",
    "\n",
    "    # Initialize containers for results\n",
    "    cosine_sim_results = []\n",
    "\n",
    "    # Identify unique conditions\n",
    "    unique_conditions = set(data_dict['condition'].values())\n",
    "\n",
    "    for condition in unique_conditions:\n",
    "        # Initialize lists to hold condition-specific embeddings and images\n",
    "        condition_embeddings = []\n",
    "        condition_images = []\n",
    "\n",
    "        for i in range(len(data_dict['condition'])):\n",
    "            if data_dict['condition'][i] == condition:\n",
    "                condition_embeddings.append(data_dict['embedding'][i])\n",
    "                condition_images.append(data_dict['image_id'][i])\n",
    "\n",
    "        # Calculate pairwise cosine similarity for the current condition\n",
    "        for i in range(len(condition_embeddings)):\n",
    "            for j in range(i + 1, len(condition_embeddings)):\n",
    "                # Calculate cosine similarity\n",
    "                sim = cosine_similarity([condition_embeddings[i]], [condition_embeddings[j]])[0][0]\n",
    "                \n",
    "                # Append result\n",
    "                cosine_sim_results.append({\n",
    "                    'condition': condition,\n",
    "                    'image_1': condition_images[i],\n",
    "                    'image_2': condition_images[j],\n",
    "                    'cosine': sim\n",
    "                })\n",
    "\n",
    "    results_df = pd.DataFrame(cosine_sim_results)\n",
    "    return results_df"
   ]
  },
  {
   "cell_type": "code",
   "execution_count": 7,
   "metadata": {},
   "outputs": [],
   "source": [
    "mpnetbase_df = cosines_by_image(cosines, 'sentence-transformers/all-mpnet-base-v2')\n",
    "mpnetbase_df.to_csv('blip3_cosines.csv', index = False)"
   ]
  }
 ],
 "metadata": {
  "kernelspec": {
   "display_name": "base",
   "language": "python",
   "name": "python3"
  },
  "language_info": {
   "codemirror_mode": {
    "name": "ipython",
    "version": 3
   },
   "file_extension": ".py",
   "mimetype": "text/x-python",
   "name": "python",
   "nbconvert_exporter": "python",
   "pygments_lexer": "ipython3",
   "version": "3.11.7"
  },
  "orig_nbformat": 4
 },
 "nbformat": 4,
 "nbformat_minor": 2
}
