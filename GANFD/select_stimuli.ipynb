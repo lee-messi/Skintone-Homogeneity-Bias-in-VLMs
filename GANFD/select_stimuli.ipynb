{
 "cells": [
  {
   "cell_type": "code",
   "execution_count": 1,
   "metadata": {},
   "outputs": [],
   "source": [
    "import pandas as pd\n",
    "import random, os, shutil"
   ]
  },
  {
   "cell_type": "code",
   "execution_count": 2,
   "metadata": {},
   "outputs": [],
   "source": [
    "ganfd = pd.read_csv('GANFD_Data_V1.csv')\n",
    "men_df = ganfd[(ganfd['gender_fem'] < 0.10)]\n",
    "women_df = ganfd[(ganfd['gender_fem'] > 0.90)]"
   ]
  },
  {
   "cell_type": "code",
   "execution_count": 3,
   "metadata": {},
   "outputs": [],
   "source": [
    "def process_group(group):\n",
    "    \"\"\"\n",
    "    Process each group to ensure it contains at most two rows based on the given conditions.\n",
    "    Assign a 'skintone' value: 0 for lower race_ba, 1 for higher race_ba.\n",
    "\n",
    "    Parameters:\n",
    "    group (DataFrame): Grouped DataFrame for a specific 'set'.\n",
    "\n",
    "    Returns:\n",
    "    DataFrame: Processed group with two rows max and 'skintone' column.\n",
    "    \"\"\"\n",
    "    # Filter for Black or Multiple in race_guess\n",
    "    group = group[group['race_guess'].isin(['Black', 'Multiple'])]\n",
    "\n",
    "    # Initialize selected_rows\n",
    "    selected_rows = pd.DataFrame()\n",
    "\n",
    "    # If there are more than two Blacks, keep the highest and lowest race_ba\n",
    "    black_rows = group[group['race_guess'] == 'Black']\n",
    "    if len(black_rows) > 2:\n",
    "        selected_rows = pd.concat([black_rows.nlargest(1, 'race_ba'), black_rows.nsmallest(1, 'race_ba')])\n",
    "\n",
    "    # If there is one Black and one or more Multiple\n",
    "    elif len(black_rows) == 1 and len(group[group['race_guess'] == 'Multiple']) >= 1:\n",
    "        multiple_rows = group[group['race_guess'] == 'Multiple']\n",
    "        highest_multiple = multiple_rows.nlargest(1, 'race_ba')\n",
    "        selected_rows = pd.concat([black_rows, highest_multiple])\n",
    "\n",
    "    # If there is only Multiple, keep the two with the highest race_ba\n",
    "    elif len(black_rows) == 0 and len(group[group['race_guess'] == 'Multiple']) > 1:\n",
    "        multiple_rows = group[group['race_guess'] == 'Multiple']\n",
    "        selected_rows = multiple_rows.nlargest(2, 'race_ba')\n",
    "\n",
    "    # Ensure the result has exactly two rows\n",
    "    if len(selected_rows) != 2:\n",
    "        return pd.DataFrame()  # Return empty DataFrame if conditions aren't met\n",
    "\n",
    "    # Assign 'skintone': 0 for lower race_ba, 1 for higher race_ba\n",
    "    selected_rows = selected_rows.sort_values(by='race_ba').reset_index(drop=True)\n",
    "    selected_rows['skintone'] = [0, 1]\n",
    "\n",
    "    return selected_rows"
   ]
  },
  {
   "cell_type": "code",
   "execution_count": 4,
   "metadata": {},
   "outputs": [],
   "source": [
    "# Apply the processing function to each 'set'\n",
    "sampled_men_df = (\n",
    "    men_df.groupby('set', group_keys=False)\n",
    "    .apply(process_group)\n",
    "    .reset_index(drop=True)\n",
    ")\n",
    "sampled_men_df['gender'] = 'men'"
   ]
  },
  {
   "cell_type": "code",
   "execution_count": 5,
   "metadata": {},
   "outputs": [],
   "source": [
    "# Apply the processing function to each 'set'\n",
    "sampled_women_df = (\n",
    "    women_df.groupby('set', group_keys=False)\n",
    "    .apply(process_group)\n",
    "    .reset_index(drop=True)\n",
    ")\n",
    "sampled_women_df['gender'] = 'women'"
   ]
  },
  {
   "cell_type": "code",
   "execution_count": 6,
   "metadata": {},
   "outputs": [],
   "source": [
    "sampled_df = pd.concat([sampled_men_df, sampled_women_df])"
   ]
  },
  {
   "cell_type": "code",
   "execution_count": 7,
   "metadata": {},
   "outputs": [
    {
     "name": "stderr",
     "output_type": "stream",
     "text": [
      "/var/folders/vy/0m67bpb56w75354kv9f02mfw0000gp/T/ipykernel_64803/1916146663.py:2: SettingWithCopyWarning: \n",
      "A value is trying to be set on a copy of a slice from a DataFrame.\n",
      "Try using .loc[row_indexer,col_indexer] = value instead\n",
      "\n",
      "See the caveats in the documentation: https://pandas.pydata.org/pandas-docs/stable/user_guide/indexing.html#returning-a-view-versus-a-copy\n",
      "  trimmed_df['condition'] = trimmed_df['gender'].str.lower().str[0] + trimmed_df['skintone'].astype(str)\n"
     ]
    }
   ],
   "source": [
    "trimmed_df = sampled_df[['full_ID', 'set', 'gender', 'skintone', 'race_guess', 'race_ba']]\n",
    "trimmed_df['condition'] = trimmed_df['gender'].str.lower().str[0] + trimmed_df['skintone'].astype(str)"
   ]
  },
  {
   "cell_type": "code",
   "execution_count": 8,
   "metadata": {},
   "outputs": [],
   "source": [
    "random.seed(1048596)"
   ]
  },
  {
   "cell_type": "code",
   "execution_count": 9,
   "metadata": {},
   "outputs": [],
   "source": [
    "men_sets = trimmed_df.loc[trimmed_df.gender == 'men'].set.unique().tolist()\n",
    "men_sets_samples = random.sample(men_sets, 10)"
   ]
  },
  {
   "cell_type": "code",
   "execution_count": 10,
   "metadata": {},
   "outputs": [],
   "source": [
    "women_sets = trimmed_df.loc[trimmed_df.gender == 'women'].set.unique().tolist()\n",
    "women_sets_samples = random.sample(women_sets, 10)"
   ]
  },
  {
   "cell_type": "code",
   "execution_count": 11,
   "metadata": {},
   "outputs": [],
   "source": [
    "# Filter the original DataFrame to include all rows belonging to the sampled sets\n",
    "sampled_sets = men_sets_samples + women_sets_samples\n",
    "balanced_df = trimmed_df[trimmed_df['set'].isin(sampled_sets)]"
   ]
  },
  {
   "cell_type": "code",
   "execution_count": 12,
   "metadata": {},
   "outputs": [],
   "source": [
    "# Source folder\n",
    "source_folder = 'GANFD - Cropped Grey Backgrounds'\n",
    "\n",
    "# Destination folders\n",
    "dest_folders = {\n",
    "    'Images': balanced_df['full_ID'].to_list()\n",
    "}\n",
    "\n",
    "# Create destination folders if they don't exist\n",
    "for folder in dest_folders.keys():\n",
    "    os.makedirs(folder, exist_ok=True)\n",
    "\n",
    "# Iterate through the files in the source folder\n",
    "for filename in os.listdir(source_folder):\n",
    "    if filename.endswith('.jpg'):  # Only process .jpg files\n",
    "        file_id = os.path.splitext(filename)[0]  # Extract the ID (without .jpg)\n",
    "        \n",
    "        # Check which group the file belongs to and copy it\n",
    "        for dest_folder, id_list in dest_folders.items():\n",
    "            if file_id in id_list:\n",
    "                source_path = os.path.join(source_folder, filename)\n",
    "                dest_path = os.path.join(dest_folder, filename)\n",
    "                shutil.copy(source_path, dest_path)\n",
    "                break  # Move to the next file once copied"
   ]
  },
  {
   "cell_type": "code",
   "execution_count": 13,
   "metadata": {},
   "outputs": [],
   "source": [
    "balanced_df.to_csv('image_lookup.csv', index=False)"
   ]
  }
 ],
 "metadata": {
  "kernelspec": {
   "display_name": "base",
   "language": "python",
   "name": "python3"
  },
  "language_info": {
   "codemirror_mode": {
    "name": "ipython",
    "version": 3
   },
   "file_extension": ".py",
   "mimetype": "text/x-python",
   "name": "python",
   "nbconvert_exporter": "python",
   "pygments_lexer": "ipython3",
   "version": "3.11.7"
  }
 },
 "nbformat": 4,
 "nbformat_minor": 2
}
